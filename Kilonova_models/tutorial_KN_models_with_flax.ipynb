{
 "cells": [
  {
   "cell_type": "markdown",
   "metadata": {},
   "source": [
    "# Kilonova surrogate modelling with $\\texttt{jax}$ and $\\texttt{flax}$"
   ]
  },
  {
   "cell_type": "markdown",
   "metadata": {},
   "source": [
    "**Abstract:** NMMA allows users to build kilonova models. In case you want to get your hands dirty and adapt or extend the kilonova modelling, it could be helpful to break down the source code and see the intermediate steps that are performed in building these models to for instance gain insight into the training data. This notebook shows the different preprocessing steps before building the models as guideline to users. Afterwards, we train a neural network as surrogate model using $\\texttt{jax}$ and $\\texttt{flax}$. More information on these packages can be found on their Github repos. Currently, code has been implemented that can train an NN on the SVD representation. \n",
    "\n",
    "Future work:\n",
    "- Add a learning rate scheduler in order to train the networks until convergence.\n",
    "- The NN currently is trained on SVD data. We have to apply the inverse transform to obtain the lightcurves from the surrogate model and test its performance on a separated validation/test set to finetune the architecture and be able to compare different surrogate models.\n",
    "- One can wonder whether with neural networks, we *really* need the SVD step. Previous work has considered an approach where a variational autoencoder architecture was used as surrogate model (see [this paper](https://arxiv.org/abs/2204.00285)). While this method requires more work to implement, we could try to train the NN directly on the lightcurve data instead of its SVD representation as a first step. "
   ]
  },
  {
   "cell_type": "code",
   "execution_count": 1,
   "metadata": {},
   "outputs": [],
   "source": [
    "# Basic imports\n",
    "#general modules\n",
    "import numpy as np\n",
    "import pandas as pd\n",
    "import matplotlib.pyplot as plt\n",
    "import os, sys, time, glob\n",
    "from astropy.time import Time\n",
    "import copy\n",
    "import scipy\n",
    "#nmma modules\n",
    "# sys.path.append('/Users/Woute029/Code/nmma') #path to nmma\n",
    "from nmma.em import training\n",
    "import afterglowpy as grb\n",
    "import nmma as nmma\n",
    "import functools\n",
    "\n",
    "%load_ext autoreload \n",
    "%autoreload 2\n",
    "\n",
    "# To get the relevant plot style\n",
    "import requests\n",
    "script_url = \"https://raw.githubusercontent.com/ThibeauWouters/cheat_sheets/main/myploystyle.py\"\n",
    "exec(requests.get(script_url).text)"
   ]
  },
  {
   "cell_type": "markdown",
   "metadata": {},
   "source": [
    "## Exploring and preprocessing data"
   ]
  },
  {
   "cell_type": "markdown",
   "metadata": {},
   "source": [
    "Specify the location of the lightcurves that are used as grid for interpolation. "
   ]
  },
  {
   "cell_type": "code",
   "execution_count": 2,
   "metadata": {},
   "outputs": [],
   "source": [
    "# Location of the kilonova lightcurves\n",
    "lcs_dir = \"/Users/Woute029/Documents/KN_Lightcurves/lightcurves/lcs_bulla_2022\"\n",
    "filenames = os.listdir(lcs_dir)\n",
    "full_filenames = [os.path.join(lcs_dir, f) for f in filenames]"
   ]
  },
  {
   "cell_type": "markdown",
   "metadata": {},
   "source": [
    "To briefly explore the lightcurve data, let us load in a single lightcurve. Note the formatting: this is also what is written in `nmma/em/io` that can process lightcurve files. For convenience, we rename the first column."
   ]
  },
  {
   "cell_type": "code",
   "execution_count": 3,
   "metadata": {},
   "outputs": [
    {
     "data": {
      "text/html": [
       "<div>\n",
       "<style scoped>\n",
       "    .dataframe tbody tr th:only-of-type {\n",
       "        vertical-align: middle;\n",
       "    }\n",
       "\n",
       "    .dataframe tbody tr th {\n",
       "        vertical-align: top;\n",
       "    }\n",
       "\n",
       "    .dataframe thead th {\n",
       "        text-align: right;\n",
       "    }\n",
       "</style>\n",
       "<table border=\"1\" class=\"dataframe\">\n",
       "  <thead>\n",
       "    <tr style=\"text-align: right;\">\n",
       "      <th></th>\n",
       "      <th>t</th>\n",
       "      <th>bessellux</th>\n",
       "      <th>bessellb</th>\n",
       "      <th>bessellv</th>\n",
       "      <th>bessellr</th>\n",
       "      <th>besselli</th>\n",
       "      <th>sdssu</th>\n",
       "      <th>ps1::g</th>\n",
       "      <th>ps1::r</th>\n",
       "      <th>ps1::i</th>\n",
       "      <th>...</th>\n",
       "      <th>uvot::white</th>\n",
       "      <th>atlasc</th>\n",
       "      <th>atlaso</th>\n",
       "      <th>2massj</th>\n",
       "      <th>2massh</th>\n",
       "      <th>2massks</th>\n",
       "      <th>ztfg</th>\n",
       "      <th>ztfr</th>\n",
       "      <th>ztfi</th>\n",
       "      <th>Unnamed: 27</th>\n",
       "    </tr>\n",
       "  </thead>\n",
       "  <tbody>\n",
       "    <tr>\n",
       "      <th>0</th>\n",
       "      <td>0.103</td>\n",
       "      <td>-15.361</td>\n",
       "      <td>-15.377</td>\n",
       "      <td>-15.192</td>\n",
       "      <td>-14.957</td>\n",
       "      <td>-15.142</td>\n",
       "      <td>-15.400</td>\n",
       "      <td>-15.083</td>\n",
       "      <td>-15.069</td>\n",
       "      <td>-14.145</td>\n",
       "      <td>...</td>\n",
       "      <td>-15.522</td>\n",
       "      <td>-15.189</td>\n",
       "      <td>-14.757</td>\n",
       "      <td>-14.788</td>\n",
       "      <td>-11.856</td>\n",
       "      <td>12.727</td>\n",
       "      <td>-15.223</td>\n",
       "      <td>-14.879</td>\n",
       "      <td>-14.911</td>\n",
       "      <td>NaN</td>\n",
       "    </tr>\n",
       "    <tr>\n",
       "      <th>1</th>\n",
       "      <td>0.109</td>\n",
       "      <td>-17.981</td>\n",
       "      <td>-18.327</td>\n",
       "      <td>-17.994</td>\n",
       "      <td>-17.865</td>\n",
       "      <td>-17.313</td>\n",
       "      <td>-18.045</td>\n",
       "      <td>-18.107</td>\n",
       "      <td>-17.978</td>\n",
       "      <td>-17.423</td>\n",
       "      <td>...</td>\n",
       "      <td>-18.421</td>\n",
       "      <td>-17.913</td>\n",
       "      <td>-17.795</td>\n",
       "      <td>-13.012</td>\n",
       "      <td>-13.678</td>\n",
       "      <td>-3.248</td>\n",
       "      <td>-18.047</td>\n",
       "      <td>-17.902</td>\n",
       "      <td>-17.417</td>\n",
       "      <td>NaN</td>\n",
       "    </tr>\n",
       "    <tr>\n",
       "      <th>2</th>\n",
       "      <td>0.116</td>\n",
       "      <td>-18.303</td>\n",
       "      <td>-17.752</td>\n",
       "      <td>-17.570</td>\n",
       "      <td>-17.637</td>\n",
       "      <td>-17.101</td>\n",
       "      <td>-18.346</td>\n",
       "      <td>-17.857</td>\n",
       "      <td>-17.512</td>\n",
       "      <td>-17.707</td>\n",
       "      <td>...</td>\n",
       "      <td>-18.376</td>\n",
       "      <td>-17.727</td>\n",
       "      <td>-17.652</td>\n",
       "      <td>-13.518</td>\n",
       "      <td>-16.154</td>\n",
       "      <td>-11.411</td>\n",
       "      <td>-17.893</td>\n",
       "      <td>-17.696</td>\n",
       "      <td>-17.301</td>\n",
       "      <td>NaN</td>\n",
       "    </tr>\n",
       "    <tr>\n",
       "      <th>3</th>\n",
       "      <td>0.122</td>\n",
       "      <td>-18.193</td>\n",
       "      <td>-17.729</td>\n",
       "      <td>-17.856</td>\n",
       "      <td>-17.870</td>\n",
       "      <td>-17.120</td>\n",
       "      <td>-18.175</td>\n",
       "      <td>-17.523</td>\n",
       "      <td>-17.874</td>\n",
       "      <td>-16.992</td>\n",
       "      <td>...</td>\n",
       "      <td>-18.381</td>\n",
       "      <td>-17.791</td>\n",
       "      <td>-17.614</td>\n",
       "      <td>-16.271</td>\n",
       "      <td>-17.455</td>\n",
       "      <td>-15.149</td>\n",
       "      <td>-17.562</td>\n",
       "      <td>-17.835</td>\n",
       "      <td>-16.881</td>\n",
       "      <td>NaN</td>\n",
       "    </tr>\n",
       "    <tr>\n",
       "      <th>4</th>\n",
       "      <td>0.130</td>\n",
       "      <td>-18.391</td>\n",
       "      <td>-18.425</td>\n",
       "      <td>-17.740</td>\n",
       "      <td>-17.651</td>\n",
       "      <td>-17.797</td>\n",
       "      <td>-18.361</td>\n",
       "      <td>-18.217</td>\n",
       "      <td>-17.755</td>\n",
       "      <td>-17.160</td>\n",
       "      <td>...</td>\n",
       "      <td>-18.325</td>\n",
       "      <td>-18.074</td>\n",
       "      <td>-17.532</td>\n",
       "      <td>-16.811</td>\n",
       "      <td>-13.814</td>\n",
       "      <td>-5.180</td>\n",
       "      <td>-18.237</td>\n",
       "      <td>-17.698</td>\n",
       "      <td>-17.634</td>\n",
       "      <td>NaN</td>\n",
       "    </tr>\n",
       "    <tr>\n",
       "      <th>...</th>\n",
       "      <td>...</td>\n",
       "      <td>...</td>\n",
       "      <td>...</td>\n",
       "      <td>...</td>\n",
       "      <td>...</td>\n",
       "      <td>...</td>\n",
       "      <td>...</td>\n",
       "      <td>...</td>\n",
       "      <td>...</td>\n",
       "      <td>...</td>\n",
       "      <td>...</td>\n",
       "      <td>...</td>\n",
       "      <td>...</td>\n",
       "      <td>...</td>\n",
       "      <td>...</td>\n",
       "      <td>...</td>\n",
       "      <td>...</td>\n",
       "      <td>...</td>\n",
       "      <td>...</td>\n",
       "      <td>...</td>\n",
       "      <td>...</td>\n",
       "    </tr>\n",
       "    <tr>\n",
       "      <th>95</th>\n",
       "      <td>24.532</td>\n",
       "      <td>NaN</td>\n",
       "      <td>42.820</td>\n",
       "      <td>8.469</td>\n",
       "      <td>-2.312</td>\n",
       "      <td>-5.455</td>\n",
       "      <td>8.423</td>\n",
       "      <td>39.215</td>\n",
       "      <td>6.848</td>\n",
       "      <td>-4.753</td>\n",
       "      <td>...</td>\n",
       "      <td>5.030</td>\n",
       "      <td>7.731</td>\n",
       "      <td>-3.712</td>\n",
       "      <td>-10.826</td>\n",
       "      <td>-11.521</td>\n",
       "      <td>-12.430</td>\n",
       "      <td>42.057</td>\n",
       "      <td>3.580</td>\n",
       "      <td>-5.235</td>\n",
       "      <td>NaN</td>\n",
       "    </tr>\n",
       "    <tr>\n",
       "      <th>96</th>\n",
       "      <td>25.987</td>\n",
       "      <td>NaN</td>\n",
       "      <td>25.400</td>\n",
       "      <td>7.332</td>\n",
       "      <td>-2.066</td>\n",
       "      <td>-4.865</td>\n",
       "      <td>2.813</td>\n",
       "      <td>21.797</td>\n",
       "      <td>7.107</td>\n",
       "      <td>-4.196</td>\n",
       "      <td>...</td>\n",
       "      <td>4.159</td>\n",
       "      <td>7.712</td>\n",
       "      <td>-3.199</td>\n",
       "      <td>-10.564</td>\n",
       "      <td>-11.189</td>\n",
       "      <td>-12.299</td>\n",
       "      <td>24.640</td>\n",
       "      <td>3.563</td>\n",
       "      <td>-4.719</td>\n",
       "      <td>NaN</td>\n",
       "    </tr>\n",
       "    <tr>\n",
       "      <th>97</th>\n",
       "      <td>27.528</td>\n",
       "      <td>NaN</td>\n",
       "      <td>49.912</td>\n",
       "      <td>19.402</td>\n",
       "      <td>-0.635</td>\n",
       "      <td>-3.525</td>\n",
       "      <td>7.795</td>\n",
       "      <td>48.103</td>\n",
       "      <td>14.768</td>\n",
       "      <td>-2.628</td>\n",
       "      <td>...</td>\n",
       "      <td>5.195</td>\n",
       "      <td>NaN</td>\n",
       "      <td>-1.617</td>\n",
       "      <td>-10.265</td>\n",
       "      <td>-11.054</td>\n",
       "      <td>-12.045</td>\n",
       "      <td>47.556</td>\n",
       "      <td>14.391</td>\n",
       "      <td>-3.027</td>\n",
       "      <td>NaN</td>\n",
       "    </tr>\n",
       "    <tr>\n",
       "      <th>98</th>\n",
       "      <td>29.160</td>\n",
       "      <td>58.756</td>\n",
       "      <td>NaN</td>\n",
       "      <td>3.824</td>\n",
       "      <td>-1.581</td>\n",
       "      <td>-3.732</td>\n",
       "      <td>2.394</td>\n",
       "      <td>49.495</td>\n",
       "      <td>-0.689</td>\n",
       "      <td>-3.339</td>\n",
       "      <td>...</td>\n",
       "      <td>3.222</td>\n",
       "      <td>NaN</td>\n",
       "      <td>-2.510</td>\n",
       "      <td>-9.888</td>\n",
       "      <td>-10.604</td>\n",
       "      <td>-11.653</td>\n",
       "      <td>50.387</td>\n",
       "      <td>-0.605</td>\n",
       "      <td>-3.504</td>\n",
       "      <td>NaN</td>\n",
       "    </tr>\n",
       "    <tr>\n",
       "      <th>99</th>\n",
       "      <td>30.890</td>\n",
       "      <td>inf</td>\n",
       "      <td>inf</td>\n",
       "      <td>inf</td>\n",
       "      <td>inf</td>\n",
       "      <td>inf</td>\n",
       "      <td>inf</td>\n",
       "      <td>inf</td>\n",
       "      <td>inf</td>\n",
       "      <td>inf</td>\n",
       "      <td>...</td>\n",
       "      <td>inf</td>\n",
       "      <td>inf</td>\n",
       "      <td>inf</td>\n",
       "      <td>inf</td>\n",
       "      <td>inf</td>\n",
       "      <td>inf</td>\n",
       "      <td>inf</td>\n",
       "      <td>inf</td>\n",
       "      <td>inf</td>\n",
       "      <td>NaN</td>\n",
       "    </tr>\n",
       "  </tbody>\n",
       "</table>\n",
       "<p>100 rows × 28 columns</p>\n",
       "</div>"
      ],
      "text/plain": [
       "         t  bessellux  bessellb  bessellv  bessellr  besselli   sdssu  ps1::g  \\\n",
       "0    0.103    -15.361   -15.377   -15.192   -14.957   -15.142 -15.400 -15.083   \n",
       "1    0.109    -17.981   -18.327   -17.994   -17.865   -17.313 -18.045 -18.107   \n",
       "2    0.116    -18.303   -17.752   -17.570   -17.637   -17.101 -18.346 -17.857   \n",
       "3    0.122    -18.193   -17.729   -17.856   -17.870   -17.120 -18.175 -17.523   \n",
       "4    0.130    -18.391   -18.425   -17.740   -17.651   -17.797 -18.361 -18.217   \n",
       "..     ...        ...       ...       ...       ...       ...     ...     ...   \n",
       "95  24.532        NaN    42.820     8.469    -2.312    -5.455   8.423  39.215   \n",
       "96  25.987        NaN    25.400     7.332    -2.066    -4.865   2.813  21.797   \n",
       "97  27.528        NaN    49.912    19.402    -0.635    -3.525   7.795  48.103   \n",
       "98  29.160     58.756       NaN     3.824    -1.581    -3.732   2.394  49.495   \n",
       "99  30.890        inf       inf       inf       inf       inf     inf     inf   \n",
       "\n",
       "    ps1::r  ps1::i  ...  uvot::white  atlasc  atlaso  2massj  2massh  2massks  \\\n",
       "0  -15.069 -14.145  ...      -15.522 -15.189 -14.757 -14.788 -11.856   12.727   \n",
       "1  -17.978 -17.423  ...      -18.421 -17.913 -17.795 -13.012 -13.678   -3.248   \n",
       "2  -17.512 -17.707  ...      -18.376 -17.727 -17.652 -13.518 -16.154  -11.411   \n",
       "3  -17.874 -16.992  ...      -18.381 -17.791 -17.614 -16.271 -17.455  -15.149   \n",
       "4  -17.755 -17.160  ...      -18.325 -18.074 -17.532 -16.811 -13.814   -5.180   \n",
       "..     ...     ...  ...          ...     ...     ...     ...     ...      ...   \n",
       "95   6.848  -4.753  ...        5.030   7.731  -3.712 -10.826 -11.521  -12.430   \n",
       "96   7.107  -4.196  ...        4.159   7.712  -3.199 -10.564 -11.189  -12.299   \n",
       "97  14.768  -2.628  ...        5.195     NaN  -1.617 -10.265 -11.054  -12.045   \n",
       "98  -0.689  -3.339  ...        3.222     NaN  -2.510  -9.888 -10.604  -11.653   \n",
       "99     inf     inf  ...          inf     inf     inf     inf     inf      inf   \n",
       "\n",
       "      ztfg    ztfr    ztfi  Unnamed: 27  \n",
       "0  -15.223 -14.879 -14.911          NaN  \n",
       "1  -18.047 -17.902 -17.417          NaN  \n",
       "2  -17.893 -17.696 -17.301          NaN  \n",
       "3  -17.562 -17.835 -16.881          NaN  \n",
       "4  -18.237 -17.698 -17.634          NaN  \n",
       "..     ...     ...     ...          ...  \n",
       "95  42.057   3.580  -5.235          NaN  \n",
       "96  24.640   3.563  -4.719          NaN  \n",
       "97  47.556  14.391  -3.027          NaN  \n",
       "98  50.387  -0.605  -3.504          NaN  \n",
       "99     inf     inf     inf          NaN  \n",
       "\n",
       "[100 rows x 28 columns]"
      ]
     },
     "execution_count": 3,
     "metadata": {},
     "output_type": "execute_result"
    }
   ],
   "source": [
    "dat = pd.read_csv(os.path.join(lcs_dir, filenames[0]), delimiter=\" \", escapechar='#')\n",
    "dat = dat.rename(columns={\" t[days]\": \"t\"})\n",
    "dat"
   ]
  },
  {
   "cell_type": "code",
   "execution_count": 4,
   "metadata": {},
   "outputs": [
    {
     "name": "stdout",
     "output_type": "stream",
     "text": [
      "Index(['t', 'bessellux', 'bessellb', 'bessellv', 'bessellr', 'besselli',\n",
      "       'sdssu', 'ps1::g', 'ps1::r', 'ps1::i', 'ps1::z', 'ps1::y', 'uvot::b',\n",
      "       'uvot::u', 'uvot::uvm2', 'uvot::uvw1', 'uvot::uvw2', 'uvot::v',\n",
      "       'uvot::white', 'atlasc', 'atlaso', '2massj', '2massh', '2massks',\n",
      "       'ztfg', 'ztfr', 'ztfi', 'Unnamed: 27'],\n",
      "      dtype='object')\n",
      "Index(['bessellux', 'bessellb', 'bessellv', 'bessellr', 'besselli', 'sdssu',\n",
      "       'ps1::g', 'ps1::r', 'ps1::i', 'ps1::z', 'ps1::y', 'uvot::b', 'uvot::u',\n",
      "       'uvot::uvm2', 'uvot::uvw1', 'uvot::uvw2', 'uvot::v', 'uvot::white',\n",
      "       'atlasc', 'atlaso', '2massj', '2massh', '2massks', 'ztfg', 'ztfr',\n",
      "       'ztfi'],\n",
      "      dtype='object')\n"
     ]
    }
   ],
   "source": [
    "print(dat.columns)\n",
    "value_columns = dat.columns[1:-1]\n",
    "print(value_columns)"
   ]
  },
  {
   "cell_type": "markdown",
   "metadata": {},
   "source": [
    "Below, we show the plot of a single lightcurve."
   ]
  },
  {
   "cell_type": "code",
   "execution_count": 5,
   "metadata": {},
   "outputs": [
    {
     "data": {
      "image/png": "[encoded data removed]",
      "text/plain": [
       "<Figure size 2500x1500 with 26 Axes>"
      ]
     },
     "metadata": {},
     "output_type": "display_data"
    }
   ],
   "source": [
    "nrow = len(value_columns)\n",
    "plt.subplots(nrow, 1, figsize=(25, 15), sharex = True)\n",
    "t = dat[\"t\"].values\n",
    "\n",
    "for i, key in enumerate(value_columns):\n",
    "    plt.subplot(nrow, 1, i+1)\n",
    "    plt.plot(t, dat[key].values)\n",
    "    plt.ylabel(key, rotation=0)\n",
    "    plt.grid()\n",
    "plt.show()"
   ]
  },
  {
   "cell_type": "markdown",
   "metadata": {},
   "source": [
    "Have to get the parameters out with NMMA. To read and process a bunch of photometry files as the above directory, use the `read_photometry_files` function from NMMA from the `io` script. This creates a dictionary with keys being the filenames of youyr lightcurves, and values being the above Pandas dataframe as dictionary. **Note:** This can take a while if you have a large grid."
   ]
  },
  {
   "cell_type": "code",
   "execution_count": 6,
   "metadata": {},
   "outputs": [],
   "source": [
    "from nmma.em.io import read_photometry_files\n",
    "from nmma.em.utils import interpolate_nans"
   ]
  },
  {
   "cell_type": "code",
   "execution_count": 7,
   "metadata": {},
   "outputs": [],
   "source": [
    "data = read_photometry_files(full_filenames)"
   ]
  },
  {
   "cell_type": "code",
   "execution_count": 8,
   "metadata": {},
   "outputs": [],
   "source": [
    "# Interpolate nans\n",
    "data = interpolate_nans(data)"
   ]
  },
  {
   "cell_type": "markdown",
   "metadata": {},
   "source": [
    "In order to process the data, NMMA needs to know which kind of data file you are using. This is needed in order to extract the parameters out of the filenames. In `model_parameters`, there is an overview of which lightcurves are supported for extracting the parameters:"
   ]
  },
  {
   "cell_type": "code",
   "execution_count": 9,
   "metadata": {},
   "outputs": [
    {
     "data": {
      "text/plain": [
       "{'get_knprops_from_LANLfilename': <function nmma.em.utils.get_knprops_from_LANLfilename(filename)>,\n",
       " 'AnBa2022_linear': <function nmma.em.model_parameters.AnBa2022_linear(data)>,\n",
       " 'AnBa2022_log': <function nmma.em.model_parameters.AnBa2022_log(data)>,\n",
       " 'AnBa2022_sparse': <function nmma.em.model_parameters.AnBa2022_sparse(data)>,\n",
       " 'CV': <function nmma.em.model_parameters.CV(data)>,\n",
       " 'Bu2019lm_sparse': <function nmma.em.model_parameters.Bu2019lm_sparse(data)>,\n",
       " 'Bu2019lm': <function nmma.em.model_parameters.Bu2019lm(data)>,\n",
       " 'Bu2019nsbh': <function nmma.em.model_parameters.Bu2019nsbh(data)>,\n",
       " 'Bu2022Ye': <function nmma.em.model_parameters.Bu2022Ye(data)>,\n",
       " 'Ka2017': <function nmma.em.model_parameters.Ka2017(data)>,\n",
       " 'LANL2022': <function nmma.em.model_parameters.LANL2022(data)>}"
      ]
     },
     "execution_count": 9,
     "metadata": {},
     "output_type": "execute_result"
    }
   ],
   "source": [
    "import inspect \n",
    "import nmma.em.model_parameters as model_parameters\n",
    "\n",
    "MODEL_FUNCTIONS = {\n",
    "    k: v for k, v in model_parameters.__dict__.items() if inspect.isfunction(v)\n",
    "}\n",
    "MODEL_FUNCTIONS"
   ]
  },
  {
   "cell_type": "markdown",
   "metadata": {},
   "source": [
    "We are using `Bu2022Ye`, so get the function to extract its parameters:"
   ]
  },
  {
   "cell_type": "code",
   "execution_count": 10,
   "metadata": {},
   "outputs": [],
   "source": [
    "model_name = \"Bu2022Ye\"\n",
    "model_function = MODEL_FUNCTIONS[model_name]"
   ]
  },
  {
   "cell_type": "markdown",
   "metadata": {},
   "source": [
    "Then, preprocess the data into training data with parameters"
   ]
  },
  {
   "cell_type": "code",
   "execution_count": 11,
   "metadata": {},
   "outputs": [],
   "source": [
    "training_data, parameters = model_function(data)"
   ]
  },
  {
   "cell_type": "code",
   "execution_count": 12,
   "metadata": {},
   "outputs": [],
   "source": [
    "# training_data"
   ]
  },
  {
   "cell_type": "code",
   "execution_count": 13,
   "metadata": {},
   "outputs": [
    {
     "data": {
      "text/plain": [
       "['log10_mej_dyn', 'vej_dyn', 'Yedyn', 'log10_mej_wind', 'vej_wind', 'KNtheta']"
      ]
     },
     "execution_count": 13,
     "metadata": {},
     "output_type": "execute_result"
    }
   ],
   "source": [
    "parameters"
   ]
  },
  {
   "cell_type": "markdown",
   "metadata": {},
   "source": [
    "Get the filters that are used (by default, NMMA will use all available filters, which can be found as follows:)"
   ]
  },
  {
   "cell_type": "code",
   "execution_count": 14,
   "metadata": {},
   "outputs": [
    {
     "name": "stdout",
     "output_type": "stream",
     "text": [
      "['2massh', '2massj', '2massks', 'atlasc', 'atlaso', 'bessellb', 'besselli', 'bessellr', 'bessellux', 'bessellv', 'ps1__g', 'ps1__i', 'ps1__r', 'ps1__y', 'ps1__z', 'sdssu', 'uvot__b', 'uvot__u', 'uvot__uvm2', 'uvot__uvw1', 'uvot__uvw2', 'uvot__v', 'uvot__white', 'ztfg', 'ztfi', 'ztfr']\n"
     ]
    }
   ],
   "source": [
    "keys = list(data.keys())\n",
    "filts = sorted(list(set(data[keys[0]].keys()) - {\"t\"}))\n",
    "print(filts)"
   ]
  },
  {
   "cell_type": "markdown",
   "metadata": {},
   "source": [
    "## Getting the SVD model"
   ]
  },
  {
   "cell_type": "markdown",
   "metadata": {},
   "source": [
    "Interpolation is done with an `SVDTrainingModel` object. Note that the initialization function immediately calls `interpolate_data` and starts training the model. "
   ]
  },
  {
   "cell_type": "code",
   "execution_count": 15,
   "metadata": {},
   "outputs": [],
   "source": [
    "from nmma.em.training import SVDTrainingModel"
   ]
  },
  {
   "cell_type": "code",
   "execution_count": 16,
   "metadata": {},
   "outputs": [
    {
     "name": "stdout",
     "output_type": "stream",
     "text": [
      "The grid will be interpolated to sample_time with interp1d\n"
     ]
    }
   ],
   "source": [
    "svd_ncoeff = 10\n",
    "\n",
    "training_model = SVDTrainingModel(\n",
    "        model_name,\n",
    "        training_data,\n",
    "        parameters,\n",
    "        t,\n",
    "        filts,\n",
    "        n_coeff=svd_ncoeff,\n",
    "        interpolation_type=\"tensorflow\",\n",
    "        start_training=False # don't train, just prep the data\n",
    "    )"
   ]
  },
  {
   "cell_type": "markdown",
   "metadata": {},
   "source": [
    "Now, we generate the SVD model\n",
    "\n",
    "**TO DO** figure out what this does precisely"
   ]
  },
  {
   "cell_type": "code",
   "execution_count": 17,
   "metadata": {},
   "outputs": [
    {
     "name": "stdout",
     "output_type": "stream",
     "text": [
      "Normalizing mag filter 2massh...\n",
      "Normalizing mag filter 2massj...\n",
      "Normalizing mag filter 2massks...\n",
      "Normalizing mag filter atlasc...\n",
      "Normalizing mag filter atlaso...\n",
      "Normalizing mag filter bessellb...\n",
      "Normalizing mag filter besselli...\n",
      "Normalizing mag filter bessellr...\n",
      "Normalizing mag filter bessellux...\n",
      "Normalizing mag filter bessellv...\n",
      "Normalizing mag filter ps1__g...\n",
      "Normalizing mag filter ps1__i...\n",
      "Normalizing mag filter ps1__r...\n",
      "Normalizing mag filter ps1__y...\n",
      "Normalizing mag filter ps1__z...\n",
      "Normalizing mag filter sdssu...\n",
      "Normalizing mag filter uvot__b...\n",
      "Normalizing mag filter uvot__u...\n",
      "Normalizing mag filter uvot__uvm2...\n",
      "Normalizing mag filter uvot__uvw1...\n",
      "Normalizing mag filter uvot__uvw2...\n",
      "Normalizing mag filter uvot__v...\n",
      "Normalizing mag filter uvot__white...\n",
      "Normalizing mag filter ztfg...\n",
      "Normalizing mag filter ztfi...\n",
      "Normalizing mag filter ztfr...\n"
     ]
    }
   ],
   "source": [
    "svd_model = training_model.generate_svd_model()\n",
    "training_model.svd_model = svd_model"
   ]
  },
  {
   "cell_type": "markdown",
   "metadata": {},
   "source": [
    "### Exploring the data"
   ]
  },
  {
   "cell_type": "markdown",
   "metadata": {},
   "source": [
    "Have a look at the SVD model:"
   ]
  },
  {
   "cell_type": "code",
   "execution_count": 18,
   "metadata": {},
   "outputs": [
    {
     "data": {
      "text/plain": [
       "dict_keys(['param_array_postprocess', 'param_mins', 'param_maxs', 'data_postprocess', 'mins', 'maxs', 'tt', 'n_coeff', 'cAmat', 'cAstd', 'VA'])"
      ]
     },
     "execution_count": 18,
     "metadata": {},
     "output_type": "execute_result"
    }
   ],
   "source": [
    "training_model.svd_model['2massh'].keys()"
   ]
  },
  {
   "cell_type": "code",
   "execution_count": 19,
   "metadata": {},
   "outputs": [
    {
     "data": {
      "text/plain": [
       "{'param_array_postprocess': array([[0.53724357, 0.        , 1.        , 0.62747356, 0.        ,\n",
       "         0.28711111],\n",
       "        [0.53724357, 0.        , 1.        , 1.        , 1.        ,\n",
       "         0.66666667],\n",
       "        [0.53724357, 0.        , 1.        , 0.85663468, 0.16666667,\n",
       "         0.806     ],\n",
       "        ...,\n",
       "        [0.        , 0.61538462, 0.33333333, 0.85663468, 0.        ,\n",
       "         0.50633333],\n",
       "        [0.        , 0.        , 0.66666667, 0.        , 0.16666667,\n",
       "         0.        ],\n",
       "        [0.        , 0.23076923, 0.        , 0.        , 0.        ,\n",
       "         0.28711111]]),\n",
       " 'param_mins': array([-3.  ,  0.12,  0.15, -2.  ,  0.03,  0.  ]),\n",
       " 'param_maxs': array([-1.69897   ,  0.25      ,  0.3       , -0.88605665,  0.15      ,\n",
       "        90.        ]),\n",
       " 'data_postprocess': array([[0.15895301, 0.19126668, 0.20292595, ..., 0.18128384, 0.21749341,\n",
       "         0.25376811],\n",
       "        [0.23215023, 0.14820101, 0.16322494, ..., 0.17779641, 0.21528576,\n",
       "         0.25252288],\n",
       "        [0.15349305, 0.09108891, 0.13728114, ..., 0.18143193, 0.21771055,\n",
       "         0.25403296],\n",
       "        ...,\n",
       "        [0.33374846, 0.39700543, 0.41696236, ..., 0.17894359, 0.21522028,\n",
       "         0.25157255],\n",
       "        [0.16292946, 0.1168532 , 0.10935955, ..., 0.2940874 , 0.30781898,\n",
       "         0.32654244],\n",
       "        [0.23932313, 0.15303338, 0.25949625, ..., 0.26833016, 0.30632998,\n",
       "         0.34279627]]),\n",
       " 'mins': array([ -25.18114286,  -20.651     ,  -20.495     ,  -20.471     ,\n",
       "         -20.363     ,  -20.473     ,  -20.241     ,  -20.222     ,\n",
       "         -20.49      ,  -20.525     ,  -20.277     ,  -20.182     ,\n",
       "         -20.184     ,  -19.814     ,  -19.858     ,  -19.643     ,\n",
       "         -19.512     ,  -19.761     ,  -19.349     ,  -19.116     ,\n",
       "         -18.811     ,  -18.964     ,  -18.801     ,  -18.632     ,\n",
       "         -18.714     ,  -18.565     ,  -18.652     ,  -18.46      ,\n",
       "         -18.371     ,  -18.491     ,  -18.562     ,  -18.433     ,\n",
       "         -18.275     ,  -18.309     ,  -18.184     ,  -18.476     ,\n",
       "         -18.17      ,  -18.33      ,  -18.151     ,  -18.213     ,\n",
       "         -18.17      ,  -18.059     ,  -17.973     ,  -17.924     ,\n",
       "         -18.012     ,  -17.864     ,  -17.801     ,  -17.892     ,\n",
       "         -17.81      ,  -17.844     ,  -17.795     ,  -17.739     ,\n",
       "         -17.747     ,  -17.779     ,  -17.78      ,  -17.762     ,\n",
       "         -17.751     ,  -17.697     ,  -17.7       ,  -17.666     ,\n",
       "         -17.655     ,  -17.62      ,  -17.67      ,  -17.658     ,\n",
       "         -17.666     ,  -17.633     ,  -17.587     ,  -17.571     ,\n",
       "         -17.492     ,  -17.42      ,  -17.347     ,  -17.276     ,\n",
       "         -17.183     ,  -17.079     ,  -16.982     ,  -16.827     ,\n",
       "         -16.582     ,  -16.462     ,  -16.325     ,  -16.152     ,\n",
       "         -15.99      ,  -15.833     ,  -15.737     ,  -15.637     ,\n",
       "         -15.532     ,  -15.438     ,  -15.357     ,  -15.242     ,\n",
       "         -15.119     ,  -15.036     ,  -14.962     ,  -14.851     ,\n",
       "         -14.697     ,  -14.459     ,  -24.78285467,  -47.54537543,\n",
       "         -71.64979152,  -97.17893599, -136.08996943, -186.07865939]),\n",
       " 'maxs': array([ 40.20385714,  19.288     ,  13.887     ,  11.045     ,\n",
       "          3.549     ,   1.124     ,  -1.21      ,  -2.138     ,\n",
       "         -3.063     ,  -5.733     ,  -6.179     ,  -7.515     ,\n",
       "         -8.803     ,  -9.413     , -11.244     , -12.631     ,\n",
       "        -13.045     , -12.599     , -13.146     , -13.19      ,\n",
       "        -12.792     , -13.313     , -13.102     , -13.284     ,\n",
       "        -13.414     , -13.449     , -13.296     , -13.501     ,\n",
       "        -13.526     , -13.626     , -13.552     , -13.426     ,\n",
       "        -13.627     , -13.827     , -13.733     , -13.785     ,\n",
       "        -13.788     , -13.708     , -13.714     , -13.63      ,\n",
       "        -13.658     , -13.638     , -13.664     , -13.529     ,\n",
       "        -13.611     , -13.703     , -13.664     , -13.569     ,\n",
       "        -13.604     , -13.546     , -13.39      , -13.393     ,\n",
       "        -13.337     , -13.301     , -13.296     , -13.217     ,\n",
       "        -13.104     , -13.019     , -12.931     , -12.827     ,\n",
       "        -12.632     , -12.583     , -12.437     , -12.407     ,\n",
       "        -12.33      , -12.238     , -12.162     , -11.992     ,\n",
       "        -11.833     , -11.739     , -11.476     , -11.301     ,\n",
       "        -11.138     , -10.995     , -10.749     , -10.626     ,\n",
       "        -10.565     , -10.383     , -10.208     ,  -9.99      ,\n",
       "         -9.724     ,  -9.52      ,  -9.415     ,  -9.292     ,\n",
       "         -9.028     ,  -8.292     ,  -6.865     ,  -5.265     ,\n",
       "         37.266     ,  42.176     ,  40.23794811,  77.03209709,\n",
       "        120.88490097, 167.31728155, 216.48097864, 268.60360194,\n",
       "        323.79895631, 382.2567165 , 444.16655728, 509.7940233 ]),\n",
       " 'tt': array([ 0.103,  0.109,  0.116,  0.122,  0.13 ,  0.137,  0.145,  0.154,\n",
       "         0.163,  0.173,  0.183,  0.194,  0.206,  0.218,  0.231,  0.244,\n",
       "         0.259,  0.274,  0.29 ,  0.308,  0.326,  0.345,  0.366,  0.387,\n",
       "         0.41 ,  0.435,  0.461,  0.488,  0.517,  0.547,  0.58 ,  0.614,\n",
       "         0.651,  0.689,  0.73 ,  0.773,  0.819,  0.868,  0.919,  0.974,\n",
       "         1.032,  1.093,  1.158,  1.226,  1.299,  1.376,  1.458,  1.544,\n",
       "         1.636,  1.733,  1.836,  1.944,  2.06 ,  2.182,  2.311,  2.448,\n",
       "         2.594,  2.747,  2.91 ,  3.083,  3.266,  3.459,  3.665,  3.882,\n",
       "         4.112,  4.356,  4.614,  4.888,  5.178,  5.485,  5.81 ,  6.155,\n",
       "         6.52 ,  6.906,  7.316,  7.75 ,  8.21 ,  8.696,  9.212,  9.759,\n",
       "        10.337, 10.95 , 11.6  , 12.288, 13.016, 13.788, 14.606, 15.472,\n",
       "        16.39 , 17.362, 18.392, 19.482, 20.638, 21.862, 23.158, 24.532,\n",
       "        25.987, 27.528, 29.16 , 30.89 ]),\n",
       " 'n_coeff': 10,\n",
       " 'cAmat': array([[-4.37059522e+00, -2.68961692e+00, -3.85003690e+00, ...,\n",
       "         -3.04865807e+00, -6.23801791e+00, -6.26546778e+00],\n",
       "        [ 8.04587942e-01,  8.55601407e-01,  5.41251315e-01, ...,\n",
       "         -2.21201898e-02, -1.07668944e+00, -1.17129068e+00],\n",
       "        [ 2.34624746e-01,  6.14162504e-02, -2.48549404e-01, ...,\n",
       "         -1.10637461e+00, -1.53650915e-01, -2.27991276e-01],\n",
       "        ...,\n",
       "        [ 6.69247756e-03,  4.62605859e-02,  6.12613670e-02, ...,\n",
       "          2.81888273e-03, -3.75085052e-02, -2.46640159e-02],\n",
       "        [-4.88779712e-02, -7.98199265e-02, -6.89183901e-02, ...,\n",
       "         -1.08340535e-01, -5.46508261e-02,  7.36172234e-02],\n",
       "        [-5.22206281e-02, -2.92559333e-02,  9.18393503e-02, ...,\n",
       "          7.31758601e-02,  8.12821034e-03,  7.73900760e-02]]),\n",
       " 'cAstd': array([[1., 1., 1., ..., 1., 1., 1.],\n",
       "        [1., 1., 1., ..., 1., 1., 1.],\n",
       "        [1., 1., 1., ..., 1., 1., 1.],\n",
       "        ...,\n",
       "        [1., 1., 1., ..., 1., 1., 1.],\n",
       "        [1., 1., 1., ..., 1., 1., 1.],\n",
       "        [1., 1., 1., ..., 1., 1., 1.]]),\n",
       " 'VA': array([[-5.02263919e-02,  5.04345930e-02, -1.86003642e-01, ...,\n",
       "         -1.63182970e-03, -9.23712352e-04, -2.92741267e-03],\n",
       "        [-3.86788734e-02,  5.70380438e-02, -1.83001485e-01, ...,\n",
       "          4.10500988e-04,  5.31653006e-04,  1.99190777e-04],\n",
       "        [-4.09844167e-02,  6.15404294e-02, -1.81490526e-01, ...,\n",
       "          1.00820062e-03, -1.38131679e-03,  1.75303285e-04],\n",
       "        ...,\n",
       "        [-4.91851235e-02,  3.98194667e-04, -5.01958366e-02, ...,\n",
       "          4.73914221e-03,  8.85808551e-03,  3.55987977e-01],\n",
       "        [-5.73194248e-02,  1.14026497e-02, -6.66916394e-02, ...,\n",
       "          5.60303715e-03, -3.23427241e-03, -8.10988689e-01],\n",
       "        [-6.54360904e-02,  2.16631793e-02, -8.31384441e-02, ...,\n",
       "         -1.44608607e-03, -3.87716589e-03,  4.59756278e-01]])}"
      ]
     },
     "execution_count": 19,
     "metadata": {},
     "output_type": "execute_result"
    }
   ],
   "source": [
    "training_model.svd_model['2massj']"
   ]
  },
  {
   "cell_type": "markdown",
   "metadata": {},
   "source": [
    "Check out how a specific filter looks like:"
   ]
  },
  {
   "cell_type": "code",
   "execution_count": 20,
   "metadata": {},
   "outputs": [
    {
     "data": {
      "text/plain": [
       "['param_array_postprocess',\n",
       " 'param_mins',\n",
       " 'param_maxs',\n",
       " 'data_postprocess',\n",
       " 'mins',\n",
       " 'maxs',\n",
       " 'tt',\n",
       " 'n_coeff',\n",
       " 'cAmat',\n",
       " 'cAstd',\n",
       " 'VA']"
      ]
     },
     "execution_count": 20,
     "metadata": {},
     "output_type": "execute_result"
    }
   ],
   "source": [
    "svd_model = training_model.svd_model\n",
    "example = svd_model['2massh']\n",
    "list(example.keys())"
   ]
  },
  {
   "cell_type": "code",
   "execution_count": 21,
   "metadata": {},
   "outputs": [
    {
     "name": "stdout",
     "output_type": "stream",
     "text": [
      "['log10_mej_dyn', 'vej_dyn', 'Yedyn', 'log10_mej_wind', 'vej_wind', 'KNtheta']\n"
     ]
    },
    {
     "data": {
      "text/plain": [
       "array([[0.53724357, 0.        , 1.        , 0.62747356, 0.        ,\n",
       "        0.28711111],\n",
       "       [0.53724357, 0.        , 1.        , 1.        , 1.        ,\n",
       "        0.66666667],\n",
       "       [0.53724357, 0.        , 1.        , 0.85663468, 0.16666667,\n",
       "        0.806     ]])"
      ]
     },
     "execution_count": 21,
     "metadata": {},
     "output_type": "execute_result"
    }
   ],
   "source": [
    "print(training_model.model_parameters)\n",
    "example['param_array_postprocess'][:3]"
   ]
  },
  {
   "cell_type": "code",
   "execution_count": 22,
   "metadata": {},
   "outputs": [
    {
     "name": "stdout",
     "output_type": "stream",
     "text": [
      "(10, 7700)\n"
     ]
    }
   ],
   "source": [
    "print(example['cAmat'].shape)"
   ]
  },
  {
   "cell_type": "code",
   "execution_count": 23,
   "metadata": {},
   "outputs": [
    {
     "data": {
      "text/plain": [
       "array([[-11.856     , -14.788     ,  12.727     , ..., -15.223     ,\n",
       "        -14.911     , -14.879     ],\n",
       "       [-13.678     , -13.012     ,  -3.248     , ..., -18.047     ,\n",
       "        -17.417     , -17.902     ],\n",
       "       [-16.154     , -13.518     , -11.411     , ..., -17.893     ,\n",
       "        -17.301     , -17.696     ],\n",
       "       ...,\n",
       "       [-11.054     , -10.265     , -12.045     , ...,  47.556     ,\n",
       "         -3.027     ,  14.391     ],\n",
       "       [-10.604     ,  -9.888     , -11.653     , ...,  50.387     ,\n",
       "         -3.504     ,  -0.605     ],\n",
       "       [-10.12697794,  -9.48836152, -11.23746078, ...,  53.38799877,\n",
       "         -4.00964338, -16.5014951 ]])"
      ]
     },
     "execution_count": 23,
     "metadata": {},
     "output_type": "execute_result"
    }
   ],
   "source": [
    "training_model.data['nph1.0e+06_dyn0.005-0.12-0.30_wind0.050-0.03_theta25.84_dMpc0']['data']\n"
   ]
  },
  {
   "cell_type": "code",
   "execution_count": 24,
   "metadata": {},
   "outputs": [
    {
     "data": {
      "text/plain": [
       "dict_keys(['model', 'data', 'model_parameters', 'sample_times', 'filters', 'n_coeff', 'n_epochs', 'interpolation_type', 'data_type', 'data_time_unit', 'plot', 'plotdir', 'ncpus', 'univariate_spline', 'univariate_spline_s', 'random_seed', 'svd_path', 'svd_model'])"
      ]
     },
     "execution_count": 24,
     "metadata": {},
     "output_type": "execute_result"
    }
   ],
   "source": [
    "training_model.__dict__.keys()"
   ]
  },
  {
   "cell_type": "code",
   "execution_count": 25,
   "metadata": {},
   "outputs": [
    {
     "name": "stdout",
     "output_type": "stream",
     "text": [
      "(10, 7700)\n",
      "(7700, 6)\n",
      "(10, 7700)\n",
      "(7700, 6)\n",
      "(10, 7700)\n",
      "(7700, 6)\n",
      "(10, 7700)\n",
      "(7700, 6)\n",
      "(10, 7700)\n",
      "(7700, 6)\n",
      "(10, 7700)\n",
      "(7700, 6)\n",
      "(10, 7700)\n",
      "(7700, 6)\n",
      "(10, 7700)\n",
      "(7700, 6)\n",
      "(10, 7700)\n",
      "(7700, 6)\n",
      "(10, 7700)\n",
      "(7700, 6)\n",
      "(10, 7700)\n",
      "(7700, 6)\n",
      "(10, 7700)\n",
      "(7700, 6)\n",
      "(10, 7700)\n",
      "(7700, 6)\n",
      "(10, 7700)\n",
      "(7700, 6)\n",
      "(10, 7700)\n",
      "(7700, 6)\n",
      "(10, 7700)\n",
      "(7700, 6)\n",
      "(10, 7700)\n",
      "(7700, 6)\n",
      "(10, 7700)\n",
      "(7700, 6)\n",
      "(10, 7700)\n",
      "(7700, 6)\n",
      "(10, 7700)\n",
      "(7700, 6)\n",
      "(10, 7700)\n",
      "(7700, 6)\n",
      "(10, 7700)\n",
      "(7700, 6)\n",
      "(10, 7700)\n",
      "(7700, 6)\n",
      "(10, 7700)\n",
      "(7700, 6)\n",
      "(10, 7700)\n",
      "(7700, 6)\n",
      "(10, 7700)\n",
      "(7700, 6)\n"
     ]
    }
   ],
   "source": [
    "t = training_model.sample_times\n",
    "for filt in training_model.filters:\n",
    "    print(training_model.svd_model[filt]['cAmat'].shape)\n",
    "    print(training_model.svd_model[filt]['param_array_postprocess'].shape)"
   ]
  },
  {
   "cell_type": "code",
   "execution_count": 26,
   "metadata": {},
   "outputs": [
    {
     "data": {
      "text/plain": [
       "['2massh',\n",
       " '2massj',\n",
       " '2massks',\n",
       " 'atlasc',\n",
       " 'atlaso',\n",
       " 'bessellb',\n",
       " 'besselli',\n",
       " 'bessellr',\n",
       " 'bessellux',\n",
       " 'bessellv',\n",
       " 'ps1__g',\n",
       " 'ps1__i',\n",
       " 'ps1__r',\n",
       " 'ps1__y',\n",
       " 'ps1__z',\n",
       " 'sdssu',\n",
       " 'uvot__b',\n",
       " 'uvot__u',\n",
       " 'uvot__uvm2',\n",
       " 'uvot__uvw1',\n",
       " 'uvot__uvw2',\n",
       " 'uvot__v',\n",
       " 'uvot__white',\n",
       " 'ztfg',\n",
       " 'ztfi',\n",
       " 'ztfr']"
      ]
     },
     "execution_count": 26,
     "metadata": {},
     "output_type": "execute_result"
    }
   ],
   "source": [
    "training_model.filters"
   ]
  },
  {
   "cell_type": "code",
   "execution_count": 27,
   "metadata": {},
   "outputs": [
    {
     "data": {
      "text/plain": [
       "array([ 0.103,  0.109,  0.116,  0.122,  0.13 ,  0.137,  0.145,  0.154,\n",
       "        0.163,  0.173,  0.183,  0.194,  0.206,  0.218,  0.231,  0.244,\n",
       "        0.259,  0.274,  0.29 ,  0.308,  0.326,  0.345,  0.366,  0.387,\n",
       "        0.41 ,  0.435,  0.461,  0.488,  0.517,  0.547,  0.58 ,  0.614,\n",
       "        0.651,  0.689,  0.73 ,  0.773,  0.819,  0.868,  0.919,  0.974,\n",
       "        1.032,  1.093,  1.158,  1.226,  1.299,  1.376,  1.458,  1.544,\n",
       "        1.636,  1.733,  1.836,  1.944,  2.06 ,  2.182,  2.311,  2.448,\n",
       "        2.594,  2.747,  2.91 ,  3.083,  3.266,  3.459,  3.665,  3.882,\n",
       "        4.112,  4.356,  4.614,  4.888,  5.178,  5.485,  5.81 ,  6.155,\n",
       "        6.52 ,  6.906,  7.316,  7.75 ,  8.21 ,  8.696,  9.212,  9.759,\n",
       "       10.337, 10.95 , 11.6  , 12.288, 13.016, 13.788, 14.606, 15.472,\n",
       "       16.39 , 17.362, 18.392, 19.482, 20.638, 21.862, 23.158, 24.532,\n",
       "       25.987, 27.528, 29.16 , 30.89 ])"
      ]
     },
     "execution_count": 27,
     "metadata": {},
     "output_type": "execute_result"
    }
   ],
   "source": [
    "t"
   ]
  },
  {
   "cell_type": "markdown",
   "metadata": {},
   "source": [
    "## Training a neural network using JAX"
   ]
  },
  {
   "cell_type": "markdown",
   "metadata": {},
   "source": [
    "**Note:** I have defined my own Python script called `flax_utils` for auxiliary functions to implement training of FLAX models, since it requires more work than Tensorflow models (user have to define training loop themselves etc)."
   ]
  },
  {
   "cell_type": "code",
   "execution_count": 28,
   "metadata": {},
   "outputs": [],
   "source": [
    "from sklearn.model_selection import train_test_split\n",
    "from flax_utils import *"
   ]
  },
  {
   "cell_type": "code",
   "execution_count": 29,
   "metadata": {},
   "outputs": [],
   "source": [
    "import clu as clu\n",
    "import ml_collections\n",
    "# from clu import metrics as metrics # this gives an import error"
   ]
  },
  {
   "cell_type": "markdown",
   "metadata": {},
   "source": [
    "### Prepare the data"
   ]
  },
  {
   "cell_type": "markdown",
   "metadata": {},
   "source": [
    "**TODO** Get dataloader etc from tensorflow? "
   ]
  },
  {
   "cell_type": "markdown",
   "metadata": {},
   "source": [
    "Let us train on the data of the first filter for simplicity for now:"
   ]
  },
  {
   "cell_type": "code",
   "execution_count": 30,
   "metadata": {},
   "outputs": [
    {
     "name": "stdout",
     "output_type": "stream",
     "text": [
      "Features have shape (7700, 6)\n",
      "Labels have shape (7700, 10)\n"
     ]
    }
   ],
   "source": [
    "X = training_model.svd_model[filts[0]]['param_array_postprocess']\n",
    "n_samples, input_ndim = X.shape\n",
    "print(f\"Features have shape {X.shape}\")\n",
    "y = training_model.svd_model[filts[0]]['cAmat'].T\n",
    "_, output_ndim = y.shape\n",
    "print(f\"Labels have shape {y.shape}\")"
   ]
  },
  {
   "cell_type": "code",
   "execution_count": 31,
   "metadata": {},
   "outputs": [],
   "source": [
    "X_train, X_val, y_train, y_val = train_test_split(X, y, random_state=0)"
   ]
  },
  {
   "cell_type": "markdown",
   "metadata": {},
   "source": [
    "### Neural network architecture"
   ]
  },
  {
   "cell_type": "markdown",
   "metadata": {},
   "source": [
    "Import the relevant jax and flax libraries:"
   ]
  },
  {
   "cell_type": "code",
   "execution_count": 32,
   "metadata": {},
   "outputs": [],
   "source": [
    "import jax\n",
    "import jax.numpy as jnp\n",
    "\n",
    "from flax import linen as nn  # Linen API\n",
    "from flax.training import train_state  # Useful dataclass to keep train state\n",
    "from flax import struct                # Flax dataclasses\n",
    "\n",
    "# from clu import metrics\n",
    "import optax"
   ]
  },
  {
   "cell_type": "markdown",
   "metadata": {},
   "source": [
    "Define our initial PNRG key (see JAX gotchas to learn more about how JAX uses random number generators)"
   ]
  },
  {
   "cell_type": "code",
   "execution_count": 33,
   "metadata": {},
   "outputs": [],
   "source": [
    "key = jax.random.PRNGKey(0)\n",
    "# Split the random key to get a PRNG key for initialization of the network parameters\n",
    "key, init_key = jax.random.split(key)"
   ]
  },
  {
   "cell_type": "markdown",
   "metadata": {},
   "source": [
    "The hyperparameters are saved with the `ml_collections` package in a ConfigDict. We saved the default hyperparameters as follows:"
   ]
  },
  {
   "cell_type": "code",
   "execution_count": 34,
   "metadata": {},
   "outputs": [
    {
     "name": "stdout",
     "output_type": "stream",
     "text": [
      "act_func: <jax._src.custom_derivatives.custom_jvp object at 0x29a6ac4c0>\n",
      "batch_size: 128\n",
      "fixed_lr: False\n",
      "layer_sizes: [64, 128, 64, 10]\n",
      "learning_rate: 0.01\n",
      "learning_rate_fn: None\n",
      "name: MLP\n",
      "nb_epochs: 1000\n",
      "nb_epochs_decay: 100\n",
      "nb_report: 100\n",
      "optimizer: <function adam at 0x29aaa0820>\n"
     ]
    }
   ],
   "source": [
    "config = get_default_config()\n",
    "for (k, v) in config.items():\n",
    "    if k == \"my_scheduler\":\n",
    "        continue\n",
    "    print(f\"{k}: {v}\")"
   ]
  },
  {
   "cell_type": "markdown",
   "metadata": {},
   "source": [
    "We have defined a simple custom scheduler for training. It has the following default hyperparameter values:"
   ]
  },
  {
   "cell_type": "code",
   "execution_count": 35,
   "metadata": {},
   "outputs": [
    {
     "name": "stdout",
     "output_type": "stream",
     "text": [
      "counter: 0\n",
      "history: 10\n",
      "multiplier: 0.5\n",
      "patience: 10\n",
      "threshold: 0.995\n"
     ]
    }
   ],
   "source": [
    "for (k, v) in config.my_scheduler.items():\n",
    "    print(f\"{k}: {v}\")"
   ]
  },
  {
   "cell_type": "markdown",
   "metadata": {},
   "source": [
    "We defined a new class for simplicity that implements MLPs of arbitrary sizes and with an arbitrary activation function that is applied at all hidden layers (*not* the output layer). The class is implemented in my own script `flax_training` and is simply called `MLP`. We initialize a new MLP object and print its architecture to the screen. "
   ]
  },
  {
   "cell_type": "code",
   "execution_count": 36,
   "metadata": {},
   "outputs": [
    {
     "name": "stdout",
     "output_type": "stream",
     "text": [
      "\n",
      "\u001b[3m                                 MLP Summary                                 \u001b[0m\n",
      "┏━━━━━━━━━━┳━━━━━━━━┳━━━━━━━━━━━━━━┳━━━━━━━━━━━━━━┳━━━━━━━━━━━━━━━━━━━━━━━━━┓\n",
      "┃\u001b[1m \u001b[0m\u001b[1mpath    \u001b[0m\u001b[1m \u001b[0m┃\u001b[1m \u001b[0m\u001b[1mmodule\u001b[0m\u001b[1m \u001b[0m┃\u001b[1m \u001b[0m\u001b[1minputs      \u001b[0m\u001b[1m \u001b[0m┃\u001b[1m \u001b[0m\u001b[1moutputs     \u001b[0m\u001b[1m \u001b[0m┃\u001b[1m \u001b[0m\u001b[1mparams                 \u001b[0m\u001b[1m \u001b[0m┃\n",
      "┡━━━━━━━━━━╇━━━━━━━━╇━━━━━━━━━━━━━━╇━━━━━━━━━━━━━━╇━━━━━━━━━━━━━━━━━━━━━━━━━┩\n",
      "│          │ MLP    │ \u001b[2mfloat32\u001b[0m[6]   │ \u001b[2mfloat32\u001b[0m[10]  │                         │\n",
      "├──────────┼────────┼──────────────┼──────────────┼─────────────────────────┤\n",
      "│ layers_0 │ Dense  │ \u001b[2mfloat32\u001b[0m[6]   │ \u001b[2mfloat32\u001b[0m[64]  │ bias: \u001b[2mfloat32\u001b[0m[64]       │\n",
      "│          │        │              │              │ kernel: \u001b[2mfloat32\u001b[0m[6,64]   │\n",
      "│          │        │              │              │                         │\n",
      "│          │        │              │              │ \u001b[1m448 \u001b[0m\u001b[1;2m(1.8 KB)\u001b[0m            │\n",
      "├──────────┼────────┼──────────────┼──────────────┼─────────────────────────┤\n",
      "│ layers_1 │ Dense  │ \u001b[2mfloat32\u001b[0m[64]  │ \u001b[2mfloat32\u001b[0m[128] │ bias: \u001b[2mfloat32\u001b[0m[128]      │\n",
      "│          │        │              │              │ kernel: \u001b[2mfloat32\u001b[0m[64,128] │\n",
      "│          │        │              │              │                         │\n",
      "│          │        │              │              │ \u001b[1m8,320 \u001b[0m\u001b[1;2m(33.3 KB)\u001b[0m         │\n",
      "├──────────┼────────┼──────────────┼──────────────┼─────────────────────────┤\n",
      "│ layers_2 │ Dense  │ \u001b[2mfloat32\u001b[0m[128] │ \u001b[2mfloat32\u001b[0m[64]  │ bias: \u001b[2mfloat32\u001b[0m[64]       │\n",
      "│          │        │              │              │ kernel: \u001b[2mfloat32\u001b[0m[128,64] │\n",
      "│          │        │              │              │                         │\n",
      "│          │        │              │              │ \u001b[1m8,256 \u001b[0m\u001b[1;2m(33.0 KB)\u001b[0m         │\n",
      "├──────────┼────────┼──────────────┼──────────────┼─────────────────────────┤\n",
      "│ layers_3 │ Dense  │ \u001b[2mfloat32\u001b[0m[64]  │ \u001b[2mfloat32\u001b[0m[10]  │ bias: \u001b[2mfloat32\u001b[0m[10]       │\n",
      "│          │        │              │              │ kernel: \u001b[2mfloat32\u001b[0m[64,10]  │\n",
      "│          │        │              │              │                         │\n",
      "│          │        │              │              │ \u001b[1m650 \u001b[0m\u001b[1;2m(2.6 KB)\u001b[0m            │\n",
      "├──────────┼────────┼──────────────┼──────────────┼─────────────────────────┤\n",
      "│\u001b[1m \u001b[0m\u001b[1m        \u001b[0m\u001b[1m \u001b[0m│\u001b[1m \u001b[0m\u001b[1m      \u001b[0m\u001b[1m \u001b[0m│\u001b[1m \u001b[0m\u001b[1m            \u001b[0m\u001b[1m \u001b[0m│\u001b[1m \u001b[0m\u001b[1m       Total\u001b[0m\u001b[1m \u001b[0m│\u001b[1m \u001b[0m\u001b[1m17,674 \u001b[0m\u001b[1;2m(70.7 KB)\u001b[0m\u001b[1m       \u001b[0m\u001b[1m \u001b[0m│\n",
      "└──────────┴────────┴──────────────┴──────────────┴─────────────────────────┘\n",
      "\u001b[1m                                                                             \u001b[0m\n",
      "\u001b[1m                     Total Parameters: 17,674 \u001b[0m\u001b[1;2m(70.7 KB)\u001b[0m\u001b[1m                      \u001b[0m\n",
      "\n",
      "\n"
     ]
    }
   ],
   "source": [
    "net = MLP(layer_sizes = config.layer_sizes, act_func = config.act_func)\n",
    "print(net.tabulate(jax.random.PRNGKey(0), jnp.ones(input_ndim)))"
   ]
  },
  {
   "cell_type": "markdown",
   "metadata": {},
   "source": [
    "### Optimizers"
   ]
  },
  {
   "cell_type": "markdown",
   "metadata": {},
   "source": [
    "Define the learning rate scheduler (see [these docs](https://optax.readthedocs.io/en/latest/api.html#optimizer-schedules) for more information)\n",
    "\n",
    "**TODO** Implement scheduler based on loss history?"
   ]
  },
  {
   "cell_type": "markdown",
   "metadata": {},
   "source": [
    "Implement the training loop for a step and an epoch:"
   ]
  },
  {
   "cell_type": "markdown",
   "metadata": {},
   "source": [
    "Get the optimizer ready and create `TrainState` object, which is used for holding the parameters and updating them. Note: `TrainState` saves the optimizer under the field `tx`"
   ]
  },
  {
   "cell_type": "code",
   "execution_count": 37,
   "metadata": {},
   "outputs": [],
   "source": [
    "state = create_train_state(net, jnp.ones(input_ndim), init_key, config)"
   ]
  },
  {
   "cell_type": "code",
   "execution_count": 38,
   "metadata": {},
   "outputs": [
    {
     "data": {
      "text/plain": [
       "GradientTransformationExtraArgs(init=<function chain.<locals>.init_fn at 0x29ea4c670>, update=<function chain.<locals>.update_fn at 0x29ea4cb80>)"
      ]
     },
     "execution_count": 38,
     "metadata": {},
     "output_type": "execute_result"
    }
   ],
   "source": [
    "state.tx # optimizer info"
   ]
  },
  {
   "cell_type": "markdown",
   "metadata": {},
   "source": [
    "Small example: we can get the parameter shapes as follows:"
   ]
  },
  {
   "cell_type": "code",
   "execution_count": 39,
   "metadata": {},
   "outputs": [
    {
     "name": "stdout",
     "output_type": "stream",
     "text": [
      "FrozenDict({\n",
      "    layers_0: {\n",
      "        bias: (64,),\n",
      "        kernel: (6, 64),\n",
      "    },\n",
      "    layers_1: {\n",
      "        bias: (128,),\n",
      "        kernel: (64, 128),\n",
      "    },\n",
      "    layers_2: {\n",
      "        bias: (64,),\n",
      "        kernel: (128, 64),\n",
      "    },\n",
      "    layers_3: {\n",
      "        bias: (10,),\n",
      "        kernel: (64, 10),\n",
      "    },\n",
      "})\n"
     ]
    }
   ],
   "source": [
    "param_shapes = jax.tree_util.tree_map(lambda x: x.shape, state.params) # Checking output shapes\n",
    "print(param_shapes)"
   ]
  },
  {
   "cell_type": "markdown",
   "metadata": {},
   "source": [
    "### Training"
   ]
  },
  {
   "cell_type": "markdown",
   "metadata": {},
   "source": [
    "The loss function will be MSE. **TODO** make this part as input?"
   ]
  },
  {
   "cell_type": "code",
   "execution_count": 40,
   "metadata": {},
   "outputs": [
    {
     "name": "stdout",
     "output_type": "stream",
     "text": [
      "Train loss at step 1: 8.595948219299316\n",
      "Valid loss at step 1: 8.466808319091797\n",
      "Learning rate: 0.01\n",
      "---\n",
      "Train loss at step 101: 0.08192899078130722\n",
      "Valid loss at step 101: 0.07334102690219879\n",
      "Learning rate: 0.01\n",
      "---\n",
      "Train loss at step 201: 0.05797664076089859\n",
      "Valid loss at step 201: 0.04980911687016487\n",
      "Learning rate: 0.01\n",
      "---\n",
      "Train loss at step 301: 0.04227406159043312\n",
      "Valid loss at step 301: 0.034657735377550125\n",
      "Learning rate: 0.01\n",
      "---\n",
      "Train loss at step 401: 0.05601518973708153\n",
      "Valid loss at step 401: 0.04851855710148811\n",
      "Learning rate: 0.01\n",
      "---\n",
      "Train loss at step 501: 0.03606181964278221\n",
      "Valid loss at step 501: 0.028345763683319092\n",
      "Learning rate: 0.01\n",
      "---\n",
      "Train loss at step 601: 0.03226868435740471\n",
      "Valid loss at step 601: 0.024433109909296036\n",
      "Learning rate: 0.01\n",
      "---\n",
      "Train loss at step 701: 0.03085939772427082\n",
      "Valid loss at step 701: 0.022843660786747932\n",
      "Learning rate: 0.01\n",
      "---\n",
      "Train loss at step 801: 0.030182480812072754\n",
      "Valid loss at step 801: 0.022041747346520424\n",
      "Learning rate: 0.01\n",
      "---\n",
      "Train loss at step 901: 0.033662937581539154\n",
      "Valid loss at step 901: 0.025239644572138786\n",
      "Learning rate: 0.01\n",
      "---\n",
      "Training for 1000 took 3.0552589893341064 seconds.\n"
     ]
    }
   ],
   "source": [
    "end_state, train_losses, val_losses = train_loop(state, X_train, y_train, X_val, y_val, config)"
   ]
  },
  {
   "cell_type": "markdown",
   "metadata": {},
   "source": [
    "Show the training progress:"
   ]
  },
  {
   "cell_type": "code",
   "execution_count": 41,
   "metadata": {},
   "outputs": [
    {
     "data": {
      "image/png": "[encoded data removed]",
      "text/plain": [
       "<Figure size 1000x500 with 1 Axes>"
      ]
     },
     "metadata": {},
     "output_type": "display_data"
    }
   ],
   "source": [
    "plt.figure(figsize = (10, 5))\n",
    "start = 0\n",
    "end = -1\n",
    "ls = \"-o\"\n",
    "ms = 3\n",
    "plt.plot([i+1 for i in range(len(train_losses))][start:end], train_losses[start:end], ls, markersize = ms, label = \"Train\", color = \"red\")\n",
    "plt.plot([i+1 for i in range(len(val_losses))][start:end], val_losses[start:end], ls, markersize = ms, label = \"Validation\", color = \"blue\")\n",
    "plt.legend()\n",
    "plt.xlabel(\"Epoch\")\n",
    "plt.ylabel(\"MSE loss\")\n",
    "plt.yscale('log')\n",
    "plt.title(\"Learning curves\")\n",
    "plt.show()"
   ]
  },
  {
   "cell_type": "markdown",
   "metadata": {},
   "source": [
    "**Discussion:** These learning curves look good. I am not sure why validation loss is lower than training loss, but this can happen sometimes and is not a reason for panic afaik. As can be seen from the loss, the learning rate is quite high after around 200 epochs and ideally should be adapted later on in the training. Future work should implement such learning rate schedulers such that the network can be trained towards lower loss values. Currently, this is not too much of an issue if we use the Adam optimizer: we see that the envelope of the loss curve is still decreasing.   "
   ]
  },
  {
   "cell_type": "markdown",
   "metadata": {},
   "source": [
    "## Benchmarking surrogate models"
   ]
  },
  {
   "cell_type": "markdown",
   "metadata": {},
   "source": [
    "**TODO:** We need a way to benchmark the surrogate models. For instance, we can check the MSE on the lightcurve rather than the SVD data, and compare this value for different surrogate models on a validation set of such lightcurves. This will allow us to finetune the architecture or to compare completely different approaches (GPR vs NN for instance)."
   ]
  },
  {
   "cell_type": "code",
   "execution_count": null,
   "metadata": {},
   "outputs": [],
   "source": []
  },
  {
   "cell_type": "markdown",
   "metadata": {},
   "source": [
    "## Extra: Exploring the data as pictures"
   ]
  },
  {
   "cell_type": "markdown",
   "metadata": {},
   "source": [
    "**Idea/question:** Instead of using the SVD, could we perhaps train directly on the lightcurve data, *and* at the same time learn all the filters, instead of a single neural network for every single filter independently? (The latter approach does not capture relations between the different filters.) The idea would be to train a CNN architecture that generates images such as the one below if given the merger parameters. "
   ]
  },
  {
   "cell_type": "code",
   "execution_count": 42,
   "metadata": {},
   "outputs": [
    {
     "name": "stdout",
     "output_type": "stream",
     "text": [
      "(7700, 100)\n",
      "(26, 100)\n"
     ]
    },
    {
     "data": {
      "image/png": "[encoded data removed]",
      "text/plain": [
       "<Figure size 1500x1200 with 1 Axes>"
      ]
     },
     "metadata": {},
     "output_type": "display_data"
    }
   ],
   "source": [
    "# Get the data\n",
    "print(training_model.svd_model[filts[0]]['data_postprocess'].shape)\n",
    "example_data = np.stack([training_model.svd_model[f]['data_postprocess'][0] for f in training_model.filters])\n",
    "print(example_data.shape)\n",
    "\n",
    "# Plot the data\n",
    "no_ticks = False\n",
    "\n",
    "plt.figure(figsize = (15, 12))\n",
    "plt.imshow(example_data, zorder = 10)\n",
    "# Labels\n",
    "plt.xlabel(\"Time\")\n",
    "plt.ylabel(\"Filters\")\n",
    "# cbar = plt.colorbar()\n",
    "# cbar.set_label(\"Normalized LC values\")\n",
    "plt.title(\"Normalized lightcurve data\")\n",
    "plt.xticks([])\n",
    "plt.yticks([i for i in range(len(filts))], filts)\n",
    "plt.show()"
   ]
  },
  {
   "cell_type": "code",
   "execution_count": 43,
   "metadata": {},
   "outputs": [
    {
     "data": {
      "text/plain": [
       "array([-4.62778572, -0.36531729,  0.25260386, -0.06618868,  0.33647734,\n",
       "        0.22141482,  0.00837703,  0.02129562,  0.01703494, -0.02540689])"
      ]
     },
     "execution_count": 43,
     "metadata": {},
     "output_type": "execute_result"
    }
   ],
   "source": [
    "training_model.svd_model[filts[0]]['cAmat'].T[0]"
   ]
  },
  {
   "cell_type": "markdown",
   "metadata": {},
   "source": [
    "Can also do the same idea with the SVD embedding. However, not sure how informative this is going to be..."
   ]
  },
  {
   "cell_type": "code",
   "execution_count": 44,
   "metadata": {},
   "outputs": [],
   "source": [
    "# # Get the data\n",
    "# example_data = np.stack([training_model.svd_model[f]['cAmat'].T[0] for f in training_model.filters])\n",
    "# print(example_data.shape)\n",
    "\n",
    "# # Plot the data\n",
    "# no_ticks = False\n",
    "\n",
    "# plt.figure(figsize = (15, 12))\n",
    "# plt.imshow(example_data, zorder = 10)\n",
    "# # Labels\n",
    "# plt.xlabel(\"Time\")\n",
    "# plt.ylabel(\"Filters\")\n",
    "# # cbar = plt.colorbar()\n",
    "# # cbar.set_label(\"Normalized LC values\")\n",
    "# plt.title(\"Embeddings\")\n",
    "# plt.xticks([])\n",
    "# plt.yticks([i for i in range(len(filts))], filts)\n",
    "# plt.show()"
   ]
  },
  {
   "cell_type": "markdown",
   "metadata": {},
   "source": [
    "## Extra: Investigating PCA"
   ]
  },
  {
   "cell_type": "markdown",
   "metadata": {},
   "source": [
    "**Idea/question:** The SVD uses 10 components by default. Is this good? Check the PCA as function of number of coefficients. *Edit:* Seems OK, not much to be improved here."
   ]
  },
  {
   "cell_type": "code",
   "execution_count": 45,
   "metadata": {},
   "outputs": [],
   "source": [
    "from sklearn.decomposition import PCA"
   ]
  },
  {
   "cell_type": "code",
   "execution_count": 46,
   "metadata": {},
   "outputs": [
    {
     "data": {
      "text/plain": [
       "(7700, 100)"
      ]
     },
     "execution_count": 46,
     "metadata": {},
     "output_type": "execute_result"
    }
   ],
   "source": [
    "training_model.svd_model['2massh']['data_postprocess'].shape"
   ]
  },
  {
   "cell_type": "code",
   "execution_count": 47,
   "metadata": {},
   "outputs": [
    {
     "name": "stdout",
     "output_type": "stream",
     "text": [
      "14\n"
     ]
    }
   ],
   "source": [
    "n_components = 0.95\n",
    "pca = PCA(n_components = n_components)\n",
    "pca.fit(training_model.svd_model['2massh']['data_postprocess'])\n",
    "print(pca.n_components_)"
   ]
  },
  {
   "cell_type": "code",
   "execution_count": 48,
   "metadata": {},
   "outputs": [
    {
     "data": {
      "text/plain": [
       "dict_keys(['n_components', 'copy', 'whiten', 'svd_solver', 'tol', 'iterated_power', 'n_oversamples', 'power_iteration_normalizer', 'random_state', 'n_features_in_', '_fit_svd_solver', 'mean_', 'noise_variance_', 'n_samples_', 'n_features_', 'components_', 'n_components_', 'explained_variance_', 'explained_variance_ratio_', 'singular_values_'])"
      ]
     },
     "execution_count": 48,
     "metadata": {},
     "output_type": "execute_result"
    }
   ],
   "source": [
    "pca.__dict__.keys()"
   ]
  },
  {
   "cell_type": "code",
   "execution_count": 49,
   "metadata": {},
   "outputs": [
    {
     "data": {
      "image/png": "[encoded data removed]",
      "text/plain": [
       "<Figure size 1000x500 with 1 Axes>"
      ]
     },
     "metadata": {},
     "output_type": "display_data"
    }
   ],
   "source": [
    "ratio = 1 - pca.explained_variance_ / np.cumsum(pca.explained_variance_)\n",
    "ratio = 1 - pca.explained_variance_ratio_\n",
    "plt.figure(figsize = (10, 5))\n",
    "plt.plot(ratio[1:], '-o')\n",
    "plt.show()"
   ]
  },
  {
   "cell_type": "code",
   "execution_count": null,
   "metadata": {},
   "outputs": [],
   "source": []
  }
 ],
 "metadata": {
  "kernelspec": {
   "display_name": "nmma",
   "language": "python",
   "name": "python3"
  },
  "language_info": {
   "codemirror_mode": {
    "name": "ipython",
    "version": 3
   },
   "file_extension": ".py",
   "mimetype": "text/x-python",
   "name": "python",
   "nbconvert_exporter": "python",
   "pygments_lexer": "ipython3",
   "version": "3.10.12"
  },
  "orig_nbformat": 4
 },
 "nbformat": 4,
 "nbformat_minor": 2
}
