{
 "cells": [
  {
   "cell_type": "markdown",
   "metadata": {},
   "source": [
    "# Kilonova models"
   ]
  },
  {
   "cell_type": "markdown",
   "metadata": {},
   "source": [
    "**Abstract:** Introductory notebook on kilonova surrogate modelling, using JAX and FLAX."
   ]
  },
  {
   "cell_type": "code",
   "execution_count": 13,
   "metadata": {},
   "outputs": [],
   "source": [
    "# Basic imports\n",
    "#general modules\n",
    "import numpy as np\n",
    "import pandas as pd\n",
    "import matplotlib.pyplot as plt\n",
    "import os, sys, time, glob\n",
    "from astropy.time import Time\n",
    "import copy\n",
    "import scipy\n",
    "#nmma modules\n",
    "#sys.path.append('/Users/fabioragosta/nmma') #path to nmma\n",
    "import nmma\n",
    "from nmma.em import training\n",
    "import afterglowpy as grb\n",
    "\n",
    "import h5py\n",
    "import pickle"
   ]
  },
  {
   "cell_type": "code",
   "execution_count": 14,
   "metadata": {},
   "outputs": [
    {
     "data": {
      "text/plain": [
       "['models', 'example.ipynb', 'Bu2022Ye_tf_ps1__g.h5', 'Bu2019lm.pkl']"
      ]
     },
     "execution_count": 14,
     "metadata": {},
     "output_type": "execute_result"
    }
   ],
   "source": [
    "os.listdir(os.getcwd())"
   ]
  },
  {
   "cell_type": "markdown",
   "metadata": {},
   "source": [
    "Checking out a file"
   ]
  },
  {
   "cell_type": "code",
   "execution_count": 23,
   "metadata": {},
   "outputs": [
    {
     "name": "stdout",
     "output_type": "stream",
     "text": [
      "2massh\n",
      "2massj\n",
      "2massks\n",
      "atlasc\n",
      "atlaso\n",
      "bessellb\n",
      "besselli\n",
      "bessellr\n",
      "bessellux\n",
      "bessellv\n",
      "ps1__g\n",
      "ps1__i\n",
      "ps1__r\n",
      "ps1__y\n",
      "ps1__z\n",
      "sdssu\n",
      "uvot__b\n",
      "uvot__u\n",
      "uvot__uvm2\n",
      "uvot__uvw1\n",
      "uvot__uvw2\n",
      "uvot__v\n",
      "uvot__white\n",
      "ztfg\n",
      "ztfi\n",
      "ztfr\n"
     ]
    }
   ],
   "source": [
    "data = pd.read_pickle('Bu2019lm.pkl')\n",
    "for k in list(data.keys()):\n",
    "    print(k)"
   ]
  },
  {
   "cell_type": "code",
   "execution_count": 12,
   "metadata": {},
   "outputs": [
    {
     "name": "stdout",
     "output_type": "stream",
     "text": [
      "model_weights\n",
      "optimizer_weights\n"
     ]
    }
   ],
   "source": [
    "# os.listdir(os.getcwd())\n",
    "# file_path = os.path.join(os.getcwd(), 'Bu2022Ye_tf_ps1__g.h5')\n",
    "# with h5py.File(file_path, 'r') as file:\n",
    "#     for k in file:\n",
    "#         print(k)"
   ]
  },
  {
   "cell_type": "markdown",
   "metadata": {},
   "source": [
    "## Trying out SVD model first"
   ]
  },
  {
   "cell_type": "code",
   "execution_count": 7,
   "metadata": {},
   "outputs": [
    {
     "ename": "TypeError",
     "evalue": "__init__() missing 5 required positional arguments: 'model', 'data', 'parameters', 'sample_times', and 'filters'",
     "output_type": "error",
     "traceback": [
      "\u001b[0;31m---------------------------------------------------------------------------\u001b[0m",
      "\u001b[0;31mTypeError\u001b[0m                                 Traceback (most recent call last)",
      "Cell \u001b[0;32mIn[7], line 1\u001b[0m\n\u001b[0;32m----> 1\u001b[0m svd_model \u001b[39m=\u001b[39m nmma\u001b[39m.\u001b[39;49mem\u001b[39m.\u001b[39;49mtraining\u001b[39m.\u001b[39;49mSVDTrainingModel()\n",
      "\u001b[0;31mTypeError\u001b[0m: __init__() missing 5 required positional arguments: 'model', 'data', 'parameters', 'sample_times', and 'filters'"
     ]
    }
   ],
   "source": [
    "svd_model = nmma.em.data.create_svd_model"
   ]
  },
  {
   "cell_type": "code",
   "execution_count": null,
   "metadata": {},
   "outputs": [],
   "source": []
  }
 ],
 "metadata": {
  "kernelspec": {
   "display_name": "nmma",
   "language": "python",
   "name": "python3"
  },
  "language_info": {
   "codemirror_mode": {
    "name": "ipython",
    "version": 3
   },
   "file_extension": ".py",
   "mimetype": "text/x-python",
   "name": "python",
   "nbconvert_exporter": "python",
   "pygments_lexer": "ipython3",
   "version": "3.8.17"
  },
  "orig_nbformat": 4
 },
 "nbformat": 4,
 "nbformat_minor": 2
}
